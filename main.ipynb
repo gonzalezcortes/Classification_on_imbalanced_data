{
  "nbformat": 4,
  "nbformat_minor": 0,
  "metadata": {
    "colab": {
      "provenance": [],
      "authorship_tag": "ABX9TyNGWlmldBHWHGK+KMWg9hxc",
      "include_colab_link": true
    },
    "kernelspec": {
      "name": "python3",
      "display_name": "Python 3"
    },
    "language_info": {
      "name": "python"
    }
  },
  "cells": [
    {
      "cell_type": "markdown",
      "metadata": {
        "id": "view-in-github",
        "colab_type": "text"
      },
      "source": [
        "<a href=\"https://colab.research.google.com/github/gonzalezcortes/Classification_on_imbalanced_data/blob/main/main.ipynb\" target=\"_parent\"><img src=\"https://colab.research.google.com/assets/colab-badge.svg\" alt=\"Open In Colab\"/></a>"
      ]
    },
    {
      "cell_type": "markdown",
      "source": [
        "**Classification on imbalanced data**\n",
        "\n",
        "Based on the tutorial made by tensorflow with the credit card fraud dataset."
      ],
      "metadata": {
        "id": "QxLU461VYf7K"
      }
    },
    {
      "cell_type": "code",
      "execution_count": null,
      "metadata": {
        "id": "mldDYI4KW3zP"
      },
      "outputs": [],
      "source": []
    }
  ]
}